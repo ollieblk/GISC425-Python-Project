{
 "cells": [
  {
   "cell_type": "code",
   "execution_count": 1,
   "metadata": {},
   "outputs": [],
   "source": [
    "%matplotlib inline\n",
    "\n",
    "import matplotlib\n",
    "import matplotlib.pyplot as plt\n",
    "import ogr, os\n",
    "import shapely\n",
    "import geopandas\n",
    "import pandas\n",
    "import gdal\n",
    "import copy\n",
    "from shapely.geometry import MultiLineString, LineString, MultiPoint\n",
    "import numpy as np\n",
    "import json\n",
    "from pathlib import Path\n",
    "\n",
    "import fiona\n",
    "import pytess"
   ]
  },
  {
   "cell_type": "code",
   "execution_count": null,
   "metadata": {},
   "outputs": [],
   "source": [
    "#In this first section we convert out polygons into lines by taking the boundary of the building polygons\n",
    "\n",
    "expol = geopandas.read_file(\"Polygons/buildings.shp\") #<---CHANGE TO OWN DIRECTORY\n",
    "x = expol.geometry.boundary\n",
    "expol.geometry = x\n",
    "fig = pyplot.figure(figsize=(12,12))\n",
    "\n",
    "ax1 = fig.add_subplot(221)\n",
    "ax1.set_title(\"linestring\")\n",
    "expol.plot(ax=ax1, facecolor='Red')\n",
    "\n",
    "expol = expol[['osm_id', 'geometry']]\n",
    "\n",
    "#Make shape file\n",
    "out=Path(\"Polygons\\polyboundary.shp\") # <---CHANGE THIS TO OWN DIRECTORY\n",
    "expol.to_file(out)"
   ]
  },
  {
   "cell_type": "code",
   "execution_count": null,
   "metadata": {},
   "outputs": [],
   "source": [
    "#In this block we are converting the boundary lines we made above into points\n",
    "\n",
    "bpol = geopandas.read_file(\"Polygons/polyboundary.shp\") #<---CHANGE TO OWN DIRECTORY\n",
    "\n",
    "lpdata=geopandas.GeoDataFrame()\n",
    "lpdata['geometry']=None\n",
    "lpdata['bound']=None\n",
    "\n",
    "p=0\n",
    "for i in range(len(bpol)):\n",
    "    line_string=bpol.geometry[i]\n",
    "    for k in np.arange(0.1, 0.9, 0.05):\n",
    "        ip=line_string.interpolate(k, normalized=True)\n",
    "        lpdata.loc[p, 'geometry']=ip\n",
    "        lpdata.loc[p, 'bound']=bpol['osm_id'][i]\n",
    "        p+=1\n",
    "\n",
    "out=Path(\"Polygons\\polypoints.shp\") #<---CHANGE TO OWN DIRECTORY\n",
    "lpdata.to_file(out) \n",
    "\n",
    "lpdata.plot(markersize=0.2)"
   ]
  },
  {
   "cell_type": "code",
   "execution_count": null,
   "metadata": {},
   "outputs": [],
   "source": [
    "#Here we are doing the same thing as above, but with street data which is already in a linestring\n",
    "#We need to convert this into points\n",
    "\n",
    "streets=geopandas.read_file('lines/streets.shp') #<---CHANGE TO OWN DIRECTORY\n",
    "\n",
    "lpdata1=geopandas.GeoDataFrame()\n",
    "lpdata1['geometry']=None\n",
    "lpdata1['street']=None\n",
    "\n",
    "p=0\n",
    "for i in range(len(streets)):\n",
    "    line_string=streets.geometry[i]\n",
    "    for k in np.arange(0.1, 0.9, 0.5):\n",
    "        ip=line_string.interpolate(k, normalized=True)\n",
    "        lpdata1.loc[p, 'geometry']=ip\n",
    "        lpdata1.loc[p, 'street']=streets['osm_id'][i]\n",
    "        p+=1\n",
    "        \n",
    "out=Path(\"Lines\\linepointstreet.shp\") #<---CHANGE TO OWN DIRECTORY\n",
    "lpdata1.to_file(out)\n",
    "\n",
    "lpdata1.plot(markersize=0.2)"
   ]
  },
  {
   "cell_type": "code",
   "execution_count": null,
   "metadata": {},
   "outputs": [],
   "source": [
    "#Here we have three point files, buildings, streets and bus stops\n",
    "#We want to merge each shapefile together to create one file with all points within it\n",
    "\n",
    "pnt = geopandas.read_file(\"Points/bus_stops.shp\") #<---CHANGE TO OWN DIRECTORY\n",
    "lpnt = geopandas.read_file(\"Lines/linepointstreet.shp\") #<---CHANGE TO OWN DIRECTORY\n",
    "ppnt = geopandas.read_file(\"Polygons/polypoints.shp\") #<---CHANGE TO OWN DIRECTORY\n",
    "\n",
    "pnt.head()\n",
    "lpnt.head()\n",
    "ppnt.head()\n",
    "\n",
    "ppnt['id']=ppnt['bound']\n",
    "lpnt['id']=lpnt['street']\n",
    "pnt['id']=pnt['osm_id']\n",
    "\n",
    "pnt.head()\n",
    "\n",
    "allpnt = pandas.concat([ppnt, lpnt, pnt], sort=True, ignore_index=True)\n",
    "allpnt.crs = pnt.crs\n",
    "allpnt = allpnt.to_crs({'init': 'epsg:2193'})\n",
    "\n",
    "allpnt.plot(markersize=.1)"
   ]
  },
  {
   "cell_type": "code",
   "execution_count": null,
   "metadata": {},
   "outputs": [],
   "source": [
    "#Now we can make our voronoi polygons from the variable allpnt\n",
    "\n",
    "allpnt['x'] = allpnt['geometry'].x\n",
    "allpnt['y'] = allpnt['geometry'].y\n",
    "\n",
    "points_array=np.array([[allpnt['x'][k], allpnt['y'][k]] for k in range(len(allpnt))])\n",
    "\n",
    "allpnt.tail()\n",
    "\n",
    "voronois = pytess.voronoi(points_array)\n",
    "\n",
    "vorpolys = []\n",
    "for pt, poly in voronois:\n",
    "    vorpolys.append(shapely.geometry.Polygon(poly))"
   ]
  },
  {
   "cell_type": "code",
   "execution_count": null,
   "metadata": {},
   "outputs": [],
   "source": [
    "#Lastly, we need to dissolve the data by the ID field that we created earlier\n",
    "#This will join each individual building and street voronoi polygons back to their full shape\n",
    "\n",
    "poly_df = geopandas.GeoDataFrame(geometry=geopandas.GeoSeries(vorpolys))\n",
    "poly_df.crs = allpnt.crs\n",
    "\n",
    "poly_df.geometry.head()\n",
    "\n",
    "voronois_df=geopandas.sjoin(poly_df, allpnt, how='left', op='contains')\n",
    "\n",
    "voronois_df.head()\n",
    "\n",
    "voronois_df['geometry'] = voronois_df.buffer(0.01) #create small buffer, because polygons intersect\n",
    "\n",
    "voronois_dissolv=voronois_df.dissolve(by='id')\n",
    "\n",
    "voronois_dissolv.head()\n",
    "\n",
    "out=Path(\"VoronoisDissolved.shp\") #CHANGE TO OWN DIRECTORY\n",
    "voronois_dissolv.to_file(out)"
   ]
  },
  {
   "cell_type": "code",
   "execution_count": null,
   "metadata": {},
   "outputs": [],
   "source": [
    "#Now we can plot our voronoi polygons!\n",
    "voronois_dissolv.plot(markersize=.1, facecolor=\"darkgreen\")\n",
    "plt.xlim(1748500, 1750000)\n",
    "plt.ylim(5426500, 5427500)\n",
    "\n",
    "voronois_dissolv.plot(markersize=.1, facecolor=\"darkgreen\")\n",
    "plt.xlim(1748800, 1749400)\n",
    "plt.ylim(5426800, 5427200)"
   ]
  },
  {
   "cell_type": "code",
   "execution_count": null,
   "metadata": {},
   "outputs": [],
   "source": []
  }
 ],
 "metadata": {
  "kernelspec": {
   "display_name": "Python 3",
   "language": "python",
   "name": "python3"
  },
  "language_info": {
   "codemirror_mode": {
    "name": "ipython",
    "version": 3
   },
   "file_extension": ".py",
   "mimetype": "text/x-python",
   "name": "python",
   "nbconvert_exporter": "python",
   "pygments_lexer": "ipython3",
   "version": "3.7.1"
  }
 },
 "nbformat": 4,
 "nbformat_minor": 2
}
