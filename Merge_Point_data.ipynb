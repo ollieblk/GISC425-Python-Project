{
 "cells": [
  {
   "cell_type": "code",
   "execution_count": 1,
   "metadata": {},
   "outputs": [],
   "source": [
    "%matplotlib inline\n",
    "\n",
    "import matplotlib\n",
    "import matplotlib.pyplot as plt\n",
    "\n",
    "import geopandas\n",
    "import pandas\n",
    "\n",
    "import copy\n",
    "from shapely.geometry import MultiLineString, LineString, MultiPoint\n",
    "import numpy as np\n",
    "import json\n",
    "from pathlib import Path"
   ]
  },
  {
   "cell_type": "code",
   "execution_count": 2,
   "metadata": {},
   "outputs": [],
   "source": [
    "pnt = geopandas.read_file(\"Points/bus_stops.shp\")\n",
    "lpnt = geopandas.read_file(\"Lines/linepointstreet.shp\")\n",
    "ppnt = geopandas.read_file(\"Polygons/polypoints.shp\")"
   ]
  },
  {
   "cell_type": "code",
   "execution_count": 5,
   "metadata": {},
   "outputs": [
    {
     "data": {
      "text/html": [
       "<div>\n",
       "<style scoped>\n",
       "    .dataframe tbody tr th:only-of-type {\n",
       "        vertical-align: middle;\n",
       "    }\n",
       "\n",
       "    .dataframe tbody tr th {\n",
       "        vertical-align: top;\n",
       "    }\n",
       "\n",
       "    .dataframe thead th {\n",
       "        text-align: right;\n",
       "    }\n",
       "</style>\n",
       "<table border=\"1\" class=\"dataframe\">\n",
       "  <thead>\n",
       "    <tr style=\"text-align: right;\">\n",
       "      <th></th>\n",
       "      <th>full_id</th>\n",
       "      <th>osm_id</th>\n",
       "      <th>osm_type</th>\n",
       "      <th>highway</th>\n",
       "      <th>name</th>\n",
       "      <th>shelter</th>\n",
       "      <th>name_en</th>\n",
       "      <th>ref</th>\n",
       "      <th>geometry</th>\n",
       "    </tr>\n",
       "  </thead>\n",
       "  <tbody>\n",
       "    <tr>\n",
       "      <th>0</th>\n",
       "      <td>n729613537</td>\n",
       "      <td>729613537</td>\n",
       "      <td>node</td>\n",
       "      <td>bus_stop</td>\n",
       "      <td>Bus Stop 6910</td>\n",
       "      <td>None</td>\n",
       "      <td>None</td>\n",
       "      <td>None</td>\n",
       "      <td>POINT (174.7787019 -41.2929918)</td>\n",
       "    </tr>\n",
       "    <tr>\n",
       "      <th>1</th>\n",
       "      <td>n1010238204</td>\n",
       "      <td>1010238204</td>\n",
       "      <td>node</td>\n",
       "      <td>bus_stop</td>\n",
       "      <td>5000</td>\n",
       "      <td>yes</td>\n",
       "      <td>None</td>\n",
       "      <td>None</td>\n",
       "      <td>POINT (174.78246 -41.293858)</td>\n",
       "    </tr>\n",
       "    <tr>\n",
       "      <th>2</th>\n",
       "      <td>n1010239992</td>\n",
       "      <td>1010239992</td>\n",
       "      <td>node</td>\n",
       "      <td>bus_stop</td>\n",
       "      <td>None</td>\n",
       "      <td>yes</td>\n",
       "      <td>None</td>\n",
       "      <td>None</td>\n",
       "      <td>POINT (174.7849295 -41.2921881)</td>\n",
       "    </tr>\n",
       "    <tr>\n",
       "      <th>3</th>\n",
       "      <td>n1010242406</td>\n",
       "      <td>1010242406</td>\n",
       "      <td>node</td>\n",
       "      <td>bus_stop</td>\n",
       "      <td>5516</td>\n",
       "      <td>yes</td>\n",
       "      <td>None</td>\n",
       "      <td>None</td>\n",
       "      <td>POINT (174.7826853 -41.293737)</td>\n",
       "    </tr>\n",
       "    <tr>\n",
       "      <th>4</th>\n",
       "      <td>n1010242745</td>\n",
       "      <td>1010242745</td>\n",
       "      <td>node</td>\n",
       "      <td>bus_stop</td>\n",
       "      <td>None</td>\n",
       "      <td>yes</td>\n",
       "      <td>None</td>\n",
       "      <td>None</td>\n",
       "      <td>POINT (174.7772012 -41.295185)</td>\n",
       "    </tr>\n",
       "  </tbody>\n",
       "</table>\n",
       "</div>"
      ],
      "text/plain": [
       "       full_id      osm_id osm_type   highway           name shelter name_en  \\\n",
       "0   n729613537   729613537     node  bus_stop  Bus Stop 6910    None    None   \n",
       "1  n1010238204  1010238204     node  bus_stop           5000     yes    None   \n",
       "2  n1010239992  1010239992     node  bus_stop           None     yes    None   \n",
       "3  n1010242406  1010242406     node  bus_stop           5516     yes    None   \n",
       "4  n1010242745  1010242745     node  bus_stop           None     yes    None   \n",
       "\n",
       "    ref                         geometry  \n",
       "0  None  POINT (174.7787019 -41.2929918)  \n",
       "1  None     POINT (174.78246 -41.293858)  \n",
       "2  None  POINT (174.7849295 -41.2921881)  \n",
       "3  None   POINT (174.7826853 -41.293737)  \n",
       "4  None   POINT (174.7772012 -41.295185)  "
      ]
     },
     "execution_count": 5,
     "metadata": {},
     "output_type": "execute_result"
    }
   ],
   "source": [
    "pnt.head()"
   ]
  },
  {
   "cell_type": "code",
   "execution_count": 6,
   "metadata": {},
   "outputs": [
    {
     "data": {
      "text/html": [
       "<div>\n",
       "<style scoped>\n",
       "    .dataframe tbody tr th:only-of-type {\n",
       "        vertical-align: middle;\n",
       "    }\n",
       "\n",
       "    .dataframe tbody tr th {\n",
       "        vertical-align: top;\n",
       "    }\n",
       "\n",
       "    .dataframe thead th {\n",
       "        text-align: right;\n",
       "    }\n",
       "</style>\n",
       "<table border=\"1\" class=\"dataframe\">\n",
       "  <thead>\n",
       "    <tr style=\"text-align: right;\">\n",
       "      <th></th>\n",
       "      <th>street</th>\n",
       "      <th>geometry</th>\n",
       "    </tr>\n",
       "  </thead>\n",
       "  <tbody>\n",
       "    <tr>\n",
       "      <th>0</th>\n",
       "      <td>5181907</td>\n",
       "      <td>POINT (174.7803093057093 -41.29001958879277)</td>\n",
       "    </tr>\n",
       "    <tr>\n",
       "      <th>1</th>\n",
       "      <td>5181907</td>\n",
       "      <td>POINT (174.7801789919197 -41.29024777336626)</td>\n",
       "    </tr>\n",
       "    <tr>\n",
       "      <th>2</th>\n",
       "      <td>5181912</td>\n",
       "      <td>POINT (174.7698771456978 -41.29316914309541)</td>\n",
       "    </tr>\n",
       "    <tr>\n",
       "      <th>3</th>\n",
       "      <td>5181912</td>\n",
       "      <td>POINT (174.7705698361428 -41.29338751969565)</td>\n",
       "    </tr>\n",
       "    <tr>\n",
       "      <th>4</th>\n",
       "      <td>5181919</td>\n",
       "      <td>POINT (174.7787020359892 -41.29229139748418)</td>\n",
       "    </tr>\n",
       "  </tbody>\n",
       "</table>\n",
       "</div>"
      ],
      "text/plain": [
       "    street                                      geometry\n",
       "0  5181907  POINT (174.7803093057093 -41.29001958879277)\n",
       "1  5181907  POINT (174.7801789919197 -41.29024777336626)\n",
       "2  5181912  POINT (174.7698771456978 -41.29316914309541)\n",
       "3  5181912  POINT (174.7705698361428 -41.29338751969565)\n",
       "4  5181919  POINT (174.7787020359892 -41.29229139748418)"
      ]
     },
     "execution_count": 6,
     "metadata": {},
     "output_type": "execute_result"
    }
   ],
   "source": [
    "lpnt.head()"
   ]
  },
  {
   "cell_type": "code",
   "execution_count": 7,
   "metadata": {},
   "outputs": [
    {
     "data": {
      "text/html": [
       "<div>\n",
       "<style scoped>\n",
       "    .dataframe tbody tr th:only-of-type {\n",
       "        vertical-align: middle;\n",
       "    }\n",
       "\n",
       "    .dataframe tbody tr th {\n",
       "        vertical-align: top;\n",
       "    }\n",
       "\n",
       "    .dataframe thead th {\n",
       "        text-align: right;\n",
       "    }\n",
       "</style>\n",
       "<table border=\"1\" class=\"dataframe\">\n",
       "  <thead>\n",
       "    <tr style=\"text-align: right;\">\n",
       "      <th></th>\n",
       "      <th>bound</th>\n",
       "      <th>geometry</th>\n",
       "    </tr>\n",
       "  </thead>\n",
       "  <tbody>\n",
       "    <tr>\n",
       "      <th>0</th>\n",
       "      <td>26509771</td>\n",
       "      <td>POINT (174.7843606528178 -41.29294613444772)</td>\n",
       "    </tr>\n",
       "    <tr>\n",
       "      <th>1</th>\n",
       "      <td>26509771</td>\n",
       "      <td>POINT (174.7845362576457 -41.29233525895626)</td>\n",
       "    </tr>\n",
       "    <tr>\n",
       "      <th>2</th>\n",
       "      <td>131469593</td>\n",
       "      <td>POINT (174.7782187015568 -41.29269785939606)</td>\n",
       "    </tr>\n",
       "    <tr>\n",
       "      <th>3</th>\n",
       "      <td>131469593</td>\n",
       "      <td>POINT (174.7784162972338 -41.29240765227545)</td>\n",
       "    </tr>\n",
       "    <tr>\n",
       "      <th>4</th>\n",
       "      <td>168665961</td>\n",
       "      <td>POINT (174.7812721930336 -41.29598800521614)</td>\n",
       "    </tr>\n",
       "  </tbody>\n",
       "</table>\n",
       "</div>"
      ],
      "text/plain": [
       "       bound                                      geometry\n",
       "0   26509771  POINT (174.7843606528178 -41.29294613444772)\n",
       "1   26509771  POINT (174.7845362576457 -41.29233525895626)\n",
       "2  131469593  POINT (174.7782187015568 -41.29269785939606)\n",
       "3  131469593  POINT (174.7784162972338 -41.29240765227545)\n",
       "4  168665961  POINT (174.7812721930336 -41.29598800521614)"
      ]
     },
     "execution_count": 7,
     "metadata": {},
     "output_type": "execute_result"
    }
   ],
   "source": [
    "ppnt.head()"
   ]
  },
  {
   "cell_type": "code",
   "execution_count": 8,
   "metadata": {},
   "outputs": [
    {
     "data": {
      "text/plain": [
       "<matplotlib.axes._subplots.AxesSubplot at 0x105494d0780>"
      ]
     },
     "execution_count": 8,
     "metadata": {},
     "output_type": "execute_result"
    },
    {
     "data": {
      "image/png": "[encoded data removed]",
      "text/plain": [
       "<Figure size 432x288 with 1 Axes>"
      ]
     },
     "metadata": {
      "needs_background": "light"
     },
     "output_type": "display_data"
    },
    {
     "data": {
      "image/png": "[encoded data removed]",
      "text/plain": [
       "<Figure size 432x288 with 1 Axes>"
      ]
     },
     "metadata": {
      "needs_background": "light"
     },
     "output_type": "display_data"
    },
    {
     "data": {
      "image/png": "[encoded data removed]",
      "text/plain": [
       "<Figure size 432x288 with 1 Axes>"
      ]
     },
     "metadata": {
      "needs_background": "light"
     },
     "output_type": "display_data"
    }
   ],
   "source": [
    "pnt.plot(markersize=0.2)\n",
    "lpnt.plot(markersize=0.2)\n",
    "ppnt.plot(markersize=0.2)"
   ]
  },
  {
   "cell_type": "code",
   "execution_count": null,
   "metadata": {},
   "outputs": [],
   "source": []
  }
 ],
 "metadata": {
  "kernelspec": {
   "display_name": "Python 3",
   "language": "python",
   "name": "python3"
  },
  "language_info": {
   "codemirror_mode": {
    "name": "ipython",
    "version": 3
   },
   "file_extension": ".py",
   "mimetype": "text/x-python",
   "name": "python",
   "nbconvert_exporter": "python",
   "pygments_lexer": "ipython3",
   "version": "3.7.1"
  }
 },
 "nbformat": 4,
 "nbformat_minor": 2
}
